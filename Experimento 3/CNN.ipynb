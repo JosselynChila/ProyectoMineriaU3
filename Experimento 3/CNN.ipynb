{
  "nbformat": 4,
  "nbformat_minor": 0,
  "metadata": {
    "colab": {
      "name": "Copia de CNNProyecto1.ipynb",
      "provenance": [],
      "collapsed_sections": [],
      "include_colab_link": true
    },
    "kernelspec": {
      "name": "python3",
      "display_name": "Python 3"
    },
    "language_info": {
      "name": "python"
    }
  },
  "cells": [
    {
      "cell_type": "markdown",
      "metadata": {
        "id": "view-in-github",
        "colab_type": "text"
      },
      "source": [
        "<a href=\"https://colab.research.google.com/github/JosselynChila/ProyectoMineriaU3/blob/main/Experimento%203/CNN.ipynb\" target=\"_parent\"><img src=\"https://colab.research.google.com/assets/colab-badge.svg\" alt=\"Open In Colab\"/></a>"
      ]
    },
    {
      "cell_type": "markdown",
      "source": [
        "# **Cargar Librerías**"
      ],
      "metadata": {
        "id": "VvEMfG-5z8c5"
      }
    },
    {
      "cell_type": "code",
      "execution_count": null,
      "metadata": {
        "id": "T8e_ogMmjU1b"
      },
      "outputs": [],
      "source": [
        "''' Empezamos importando las librerías que se va a utilizar para el desarrollo del modelo CNN'''\n",
        "\n",
        "import pandas as pd\n",
        "import tensorflow as tf\n",
        "import tensorflow_datasets as tfds\n",
        "import numpy as np\n",
        "import seaborn as sns\n",
        "from sklearn.model_selection import train_test_split\n",
        "from sklearn import metrics\n",
        "from tensorflow.keras.callbacks import EarlyStopping\n",
        "from tensorflow.keras.datasets import mnist\n",
        "from tensorflow import keras\n",
        "from tensorflow.keras import layers\n",
        "from tensorflow.keras.layers import Conv1D\n",
        "from tensorflow.keras.layers import MaxPool1D\n",
        "from tensorflow.keras.layers import Flatten\n",
        "from tensorflow.keras.layers import Dropout\n",
        "from tensorflow.keras.layers import Dense\n",
        "from tensorflow.keras.layers import Activation\n",
        "from sklearn.preprocessing import StandardScaler,MinMaxScaler\n",
        "from sklearn.model_selection import cross_val_score\n",
        "from sklearn.model_selection import cross_val_predict\n",
        "import matplotlib.pyplot as plt\n",
        "import sys\n",
        "\n",
        "colors= sns.color_palette(\"mako\", 10)\n"
      ]
    },
    {
      "cell_type": "markdown",
      "source": [
        "# **Carga de Dataset**"
      ],
      "metadata": {
        "id": "m_MiYe-r0CU0"
      }
    },
    {
      "cell_type": "code",
      "source": [
        "''' Creamos la función la cual nos permite cargar el Dataset seleccionado mediante un DataFrame '''\n",
        "\n",
        "data = pd.read_csv(\"water_potability.csv\")\n",
        "data.head()"
      ],
      "metadata": {
        "id": "GyuqE65331X0"
      },
      "execution_count": null,
      "outputs": []
    },
    {
      "cell_type": "markdown",
      "source": [
        "# **Caracterización de Dataset**\n",
        "\n",
        "**ph**: pH de 1. agua (0 a 14).\n",
        "\n",
        "**Dureza**: Capacidad del agua para precipitar jabón en mg/L.\n",
        "\n",
        "**Sólidos**: Sólidos disueltos totales en ppm.\n",
        "\n",
        "**Cloraminas**: Cantidad de Cloraminas en ppm.\n",
        "\n",
        "**Sulfato**: Cantidad de Sulfatos disueltos en mg/L.\n",
        "\n",
        "**Conductividad**: Conductividad eléctrica del agua en μS/cm.\n",
        "\n",
        "**Organic_carbon**: Cantidad de carbono orgánico en ppm.\n",
        "\n",
        "**Trihalometanos**: Cantidad de Trihalometanos en μg/L.\n",
        "\n",
        "**Turbidez**: Medida de la propiedad de emisión de luz del agua en NTU.\n",
        "\n",
        "**Potabilidad**: Indica si el agua es segura para el consumo humano. Potable - 1 y No potable - 0"
      ],
      "metadata": {
        "id": "9bje-5Oy0Gwy"
      }
    },
    {
      "cell_type": "code",
      "source": [
        "''' Mediante la función info() presentamos el resumen completo del conjunto de datos '''\n",
        "\n",
        "data.info()"
      ],
      "metadata": {
        "colab": {
          "base_uri": "https://localhost:8080/"
        },
        "id": "qgCCPEpGUC5t",
        "outputId": "8cf67e4f-62e2-495d-bb4d-9b812a7f6f9d"
      },
      "execution_count": null,
      "outputs": [
        {
          "output_type": "stream",
          "name": "stdout",
          "text": [
            "<class 'pandas.core.frame.DataFrame'>\n",
            "RangeIndex: 3276 entries, 0 to 3275\n",
            "Data columns (total 10 columns):\n",
            " #   Column           Non-Null Count  Dtype  \n",
            "---  ------           --------------  -----  \n",
            " 0   ph               2785 non-null   float64\n",
            " 1   Hardness         3276 non-null   float64\n",
            " 2   Solids           3276 non-null   float64\n",
            " 3   Chloramines      3276 non-null   float64\n",
            " 4   Sulfate          2495 non-null   float64\n",
            " 5   Conductivity     3276 non-null   float64\n",
            " 6   Organic_carbon   3276 non-null   float64\n",
            " 7   Trihalomethanes  3114 non-null   float64\n",
            " 8   Turbidity        3276 non-null   float64\n",
            " 9   Potability       3276 non-null   int64  \n",
            "dtypes: float64(9), int64(1)\n",
            "memory usage: 256.1 KB\n"
          ]
        }
      ]
    },
    {
      "cell_type": "code",
      "source": [
        "''' Mediante el uso de la función shape() enviamos a imprimir el nùmero exactos de datos que existen en el Dataset '''\n",
        "\n",
        "data.shape"
      ],
      "metadata": {
        "colab": {
          "base_uri": "https://localhost:8080/"
        },
        "id": "Tg3U8I62UHQG",
        "outputId": "6461d886-a3e0-49bc-98af-1bf237d9b23b"
      },
      "execution_count": null,
      "outputs": [
        {
          "output_type": "execute_result",
          "data": {
            "text/plain": [
              "(3276, 10)"
            ]
          },
          "metadata": {},
          "execution_count": 4
        }
      ]
    },
    {
      "cell_type": "code",
      "source": [
        "''' Mediante el uso de la función describe() nos rp\n",
        "\n",
        "data.describe()"
      ],
      "metadata": {
        "colab": {
          "base_uri": "https://localhost:8080/",
          "height": 301
        },
        "id": "Vgx4iub6UImw",
        "outputId": "fc78fe65-37c1-4b50-d7d0-68d62756ab8f"
      },
      "execution_count": null,
      "outputs": [
        {
          "output_type": "execute_result",
          "data": {
            "text/plain": [
              "                ph     Hardness        Solids  Chloramines      Sulfate  \\\n",
              "count  2785.000000  3276.000000   3276.000000  3276.000000  2495.000000   \n",
              "mean      7.080795   196.369496  22014.092526     7.122277   333.775777   \n",
              "std       1.594320    32.879761   8768.570828     1.583085    41.416840   \n",
              "min       0.000000    47.432000    320.942611     0.352000   129.000000   \n",
              "25%       6.093092   176.850538  15666.690297     6.127421   307.699498   \n",
              "50%       7.036752   196.967627  20927.833607     7.130299   333.073546   \n",
              "75%       8.062066   216.667456  27332.762127     8.114887   359.950170   \n",
              "max      14.000000   323.124000  61227.196008    13.127000   481.030642   \n",
              "\n",
              "       Conductivity  Organic_carbon  Trihalomethanes    Turbidity   Potability  \n",
              "count   3276.000000     3276.000000      3114.000000  3276.000000  3276.000000  \n",
              "mean     426.205111       14.284970        66.396293     3.966786     0.390110  \n",
              "std       80.824064        3.308162        16.175008     0.780382     0.487849  \n",
              "min      181.483754        2.200000         0.738000     1.450000     0.000000  \n",
              "25%      365.734414       12.065801        55.844536     3.439711     0.000000  \n",
              "50%      421.884968       14.218338        66.622485     3.955028     0.000000  \n",
              "75%      481.792304       16.557652        77.337473     4.500320     1.000000  \n",
              "max      753.342620       28.300000       124.000000     6.739000     1.000000  "
            ],
            "text/html": [
              "\n",
              "  <div id=\"df-77a6b93d-156a-49c5-aa92-c535534a024a\">\n",
              "    <div class=\"colab-df-container\">\n",
              "      <div>\n",
              "<style scoped>\n",
              "    .dataframe tbody tr th:only-of-type {\n",
              "        vertical-align: middle;\n",
              "    }\n",
              "\n",
              "    .dataframe tbody tr th {\n",
              "        vertical-align: top;\n",
              "    }\n",
              "\n",
              "    .dataframe thead th {\n",
              "        text-align: right;\n",
              "    }\n",
              "</style>\n",
              "<table border=\"1\" class=\"dataframe\">\n",
              "  <thead>\n",
              "    <tr style=\"text-align: right;\">\n",
              "      <th></th>\n",
              "      <th>ph</th>\n",
              "      <th>Hardness</th>\n",
              "      <th>Solids</th>\n",
              "      <th>Chloramines</th>\n",
              "      <th>Sulfate</th>\n",
              "      <th>Conductivity</th>\n",
              "      <th>Organic_carbon</th>\n",
              "      <th>Trihalomethanes</th>\n",
              "      <th>Turbidity</th>\n",
              "      <th>Potability</th>\n",
              "    </tr>\n",
              "  </thead>\n",
              "  <tbody>\n",
              "    <tr>\n",
              "      <th>count</th>\n",
              "      <td>2785.000000</td>\n",
              "      <td>3276.000000</td>\n",
              "      <td>3276.000000</td>\n",
              "      <td>3276.000000</td>\n",
              "      <td>2495.000000</td>\n",
              "      <td>3276.000000</td>\n",
              "      <td>3276.000000</td>\n",
              "      <td>3114.000000</td>\n",
              "      <td>3276.000000</td>\n",
              "      <td>3276.000000</td>\n",
              "    </tr>\n",
              "    <tr>\n",
              "      <th>mean</th>\n",
              "      <td>7.080795</td>\n",
              "      <td>196.369496</td>\n",
              "      <td>22014.092526</td>\n",
              "      <td>7.122277</td>\n",
              "      <td>333.775777</td>\n",
              "      <td>426.205111</td>\n",
              "      <td>14.284970</td>\n",
              "      <td>66.396293</td>\n",
              "      <td>3.966786</td>\n",
              "      <td>0.390110</td>\n",
              "    </tr>\n",
              "    <tr>\n",
              "      <th>std</th>\n",
              "      <td>1.594320</td>\n",
              "      <td>32.879761</td>\n",
              "      <td>8768.570828</td>\n",
              "      <td>1.583085</td>\n",
              "      <td>41.416840</td>\n",
              "      <td>80.824064</td>\n",
              "      <td>3.308162</td>\n",
              "      <td>16.175008</td>\n",
              "      <td>0.780382</td>\n",
              "      <td>0.487849</td>\n",
              "    </tr>\n",
              "    <tr>\n",
              "      <th>min</th>\n",
              "      <td>0.000000</td>\n",
              "      <td>47.432000</td>\n",
              "      <td>320.942611</td>\n",
              "      <td>0.352000</td>\n",
              "      <td>129.000000</td>\n",
              "      <td>181.483754</td>\n",
              "      <td>2.200000</td>\n",
              "      <td>0.738000</td>\n",
              "      <td>1.450000</td>\n",
              "      <td>0.000000</td>\n",
              "    </tr>\n",
              "    <tr>\n",
              "      <th>25%</th>\n",
              "      <td>6.093092</td>\n",
              "      <td>176.850538</td>\n",
              "      <td>15666.690297</td>\n",
              "      <td>6.127421</td>\n",
              "      <td>307.699498</td>\n",
              "      <td>365.734414</td>\n",
              "      <td>12.065801</td>\n",
              "      <td>55.844536</td>\n",
              "      <td>3.439711</td>\n",
              "      <td>0.000000</td>\n",
              "    </tr>\n",
              "    <tr>\n",
              "      <th>50%</th>\n",
              "      <td>7.036752</td>\n",
              "      <td>196.967627</td>\n",
              "      <td>20927.833607</td>\n",
              "      <td>7.130299</td>\n",
              "      <td>333.073546</td>\n",
              "      <td>421.884968</td>\n",
              "      <td>14.218338</td>\n",
              "      <td>66.622485</td>\n",
              "      <td>3.955028</td>\n",
              "      <td>0.000000</td>\n",
              "    </tr>\n",
              "    <tr>\n",
              "      <th>75%</th>\n",
              "      <td>8.062066</td>\n",
              "      <td>216.667456</td>\n",
              "      <td>27332.762127</td>\n",
              "      <td>8.114887</td>\n",
              "      <td>359.950170</td>\n",
              "      <td>481.792304</td>\n",
              "      <td>16.557652</td>\n",
              "      <td>77.337473</td>\n",
              "      <td>4.500320</td>\n",
              "      <td>1.000000</td>\n",
              "    </tr>\n",
              "    <tr>\n",
              "      <th>max</th>\n",
              "      <td>14.000000</td>\n",
              "      <td>323.124000</td>\n",
              "      <td>61227.196008</td>\n",
              "      <td>13.127000</td>\n",
              "      <td>481.030642</td>\n",
              "      <td>753.342620</td>\n",
              "      <td>28.300000</td>\n",
              "      <td>124.000000</td>\n",
              "      <td>6.739000</td>\n",
              "      <td>1.000000</td>\n",
              "    </tr>\n",
              "  </tbody>\n",
              "</table>\n",
              "</div>\n",
              "      <button class=\"colab-df-convert\" onclick=\"convertToInteractive('df-77a6b93d-156a-49c5-aa92-c535534a024a')\"\n",
              "              title=\"Convert this dataframe to an interactive table.\"\n",
              "              style=\"display:none;\">\n",
              "        \n",
              "  <svg xmlns=\"http://www.w3.org/2000/svg\" height=\"24px\"viewBox=\"0 0 24 24\"\n",
              "       width=\"24px\">\n",
              "    <path d=\"M0 0h24v24H0V0z\" fill=\"none\"/>\n",
              "    <path d=\"M18.56 5.44l.94 2.06.94-2.06 2.06-.94-2.06-.94-.94-2.06-.94 2.06-2.06.94zm-11 1L8.5 8.5l.94-2.06 2.06-.94-2.06-.94L8.5 2.5l-.94 2.06-2.06.94zm10 10l.94 2.06.94-2.06 2.06-.94-2.06-.94-.94-2.06-.94 2.06-2.06.94z\"/><path d=\"M17.41 7.96l-1.37-1.37c-.4-.4-.92-.59-1.43-.59-.52 0-1.04.2-1.43.59L10.3 9.45l-7.72 7.72c-.78.78-.78 2.05 0 2.83L4 21.41c.39.39.9.59 1.41.59.51 0 1.02-.2 1.41-.59l7.78-7.78 2.81-2.81c.8-.78.8-2.07 0-2.86zM5.41 20L4 18.59l7.72-7.72 1.47 1.35L5.41 20z\"/>\n",
              "  </svg>\n",
              "      </button>\n",
              "      \n",
              "  <style>\n",
              "    .colab-df-container {\n",
              "      display:flex;\n",
              "      flex-wrap:wrap;\n",
              "      gap: 12px;\n",
              "    }\n",
              "\n",
              "    .colab-df-convert {\n",
              "      background-color: #E8F0FE;\n",
              "      border: none;\n",
              "      border-radius: 50%;\n",
              "      cursor: pointer;\n",
              "      display: none;\n",
              "      fill: #1967D2;\n",
              "      height: 32px;\n",
              "      padding: 0 0 0 0;\n",
              "      width: 32px;\n",
              "    }\n",
              "\n",
              "    .colab-df-convert:hover {\n",
              "      background-color: #E2EBFA;\n",
              "      box-shadow: 0px 1px 2px rgba(60, 64, 67, 0.3), 0px 1px 3px 1px rgba(60, 64, 67, 0.15);\n",
              "      fill: #174EA6;\n",
              "    }\n",
              "\n",
              "    [theme=dark] .colab-df-convert {\n",
              "      background-color: #3B4455;\n",
              "      fill: #D2E3FC;\n",
              "    }\n",
              "\n",
              "    [theme=dark] .colab-df-convert:hover {\n",
              "      background-color: #434B5C;\n",
              "      box-shadow: 0px 1px 3px 1px rgba(0, 0, 0, 0.15);\n",
              "      filter: drop-shadow(0px 1px 2px rgba(0, 0, 0, 0.3));\n",
              "      fill: #FFFFFF;\n",
              "    }\n",
              "  </style>\n",
              "\n",
              "      <script>\n",
              "        const buttonEl =\n",
              "          document.querySelector('#df-77a6b93d-156a-49c5-aa92-c535534a024a button.colab-df-convert');\n",
              "        buttonEl.style.display =\n",
              "          google.colab.kernel.accessAllowed ? 'block' : 'none';\n",
              "\n",
              "        async function convertToInteractive(key) {\n",
              "          const element = document.querySelector('#df-77a6b93d-156a-49c5-aa92-c535534a024a');\n",
              "          const dataTable =\n",
              "            await google.colab.kernel.invokeFunction('convertToInteractive',\n",
              "                                                     [key], {});\n",
              "          if (!dataTable) return;\n",
              "\n",
              "          const docLinkHtml = 'Like what you see? Visit the ' +\n",
              "            '<a target=\"_blank\" href=https://colab.research.google.com/notebooks/data_table.ipynb>data table notebook</a>'\n",
              "            + ' to learn more about interactive tables.';\n",
              "          element.innerHTML = '';\n",
              "          dataTable['output_type'] = 'display_data';\n",
              "          await google.colab.output.renderOutput(dataTable, element);\n",
              "          const docLink = document.createElement('div');\n",
              "          docLink.innerHTML = docLinkHtml;\n",
              "          element.appendChild(docLink);\n",
              "        }\n",
              "      </script>\n",
              "    </div>\n",
              "  </div>\n",
              "  "
            ]
          },
          "metadata": {},
          "execution_count": 5
        }
      ]
    },
    {
      "cell_type": "code",
      "source": [
        "plt.figure(figsize=(12,8))\n",
        "plt.title('Potability Count')\n",
        "sns.set_style('dark')\n",
        "sns.countplot(data['Potability'], palette=colors[5:7]) "
      ],
      "metadata": {
        "colab": {
          "base_uri": "https://localhost:8080/"
        },
        "id": "R62ybW0hUL5M",
        "outputId": "13b315b5-4f93-4551-e669-716dede1ec2b"
      },
      "execution_count": null,
      "outputs": [
        {
          "output_type": "stream",
          "name": "stderr",
          "text": [
            "/usr/local/lib/python3.7/dist-packages/seaborn/_decorators.py:43: FutureWarning: Pass the following variable as a keyword arg: x. From version 0.12, the only valid positional argument will be `data`, and passing other arguments without an explicit keyword will result in an error or misinterpretation.\n",
            "  FutureWarning\n"
          ]
        },
        {
          "output_type": "execute_result",
          "data": {
            "text/plain": [
              "<matplotlib.axes._subplots.AxesSubplot at 0x7f691abc6310>"
            ]
          },
          "metadata": {},
          "execution_count": 6
        },
        {
          "output_type": "display_data",
          "data": {
            "text/plain": [
              "<Figure size 864x576 with 1 Axes>"
            ],
            "image/png": "[encoded data removed]"
          },
          "metadata": {
            "needs_background": "light"
          }
        }
      ]
    },
    {
      "cell_type": "markdown",
      "source": [
        "# **Identificación X y Y**\n",
        "En el dataset todas nuestras columnas son importantes ya que como se esta buscando la clasificación de la potabilidad del agua con la no potabilidad de la misma es indispensable seleccionar todas estas columnas (ph, dureza, solidos, cloraminas, sulfato, conductividad, Organic_carbon, Trihalometanos, Turbidez) las cuales serán las variables de entrada o X y para la variable objetivo se toma la columna de potabilidad puesto que esta columna contiene el dato de si el agua es segura o no para el consumo humano."
      ],
      "metadata": {
        "id": "8Y3jcJVx0J4V"
      }
    },
    {
      "cell_type": "markdown",
      "source": [
        "# **Preprocesamiento de datos**"
      ],
      "metadata": {
        "id": "rBZc5-6c0Nfg"
      }
    },
    {
      "cell_type": "code",
      "source": [
        "data.isnull().sum()"
      ],
      "metadata": {
        "colab": {
          "base_uri": "https://localhost:8080/"
        },
        "id": "B8Vka3Ov0VI3",
        "outputId": "7d468104-b870-4b64-9eb2-2d750d49e7ef"
      },
      "execution_count": null,
      "outputs": [
        {
          "output_type": "execute_result",
          "data": {
            "text/plain": [
              "ph                 491\n",
              "Hardness             0\n",
              "Solids               0\n",
              "Chloramines          0\n",
              "Sulfate            781\n",
              "Conductivity         0\n",
              "Organic_carbon       0\n",
              "Trihalomethanes    162\n",
              "Turbidity            0\n",
              "Potability           0\n",
              "dtype: int64"
            ]
          },
          "metadata": {},
          "execution_count": 7
        }
      ]
    },
    {
      "cell_type": "code",
      "source": [
        "plt.figure(figsize=(12, 8)) \n",
        "sns.heatmap(data.isnull(), cbar=False, yticklabels=False, cmap=colors)"
      ],
      "metadata": {
        "colab": {
          "base_uri": "https://localhost:8080/"
        },
        "id": "peQRdRq7US2K",
        "outputId": "2f17fd96-5a1c-4620-ee28-ebe9c8ae5945"
      },
      "execution_count": null,
      "outputs": [
        {
          "output_type": "execute_result",
          "data": {
            "text/plain": [
              "<matplotlib.axes._subplots.AxesSubplot at 0x7f691b644750>"
            ]
          },
          "metadata": {},
          "execution_count": 8
        },
        {
          "output_type": "display_data",
          "data": {
            "text/plain": [
              "<Figure size 864x576 with 1 Axes>"
            ],
            "image/png": "[encoded data removed]"
          },
          "metadata": {}
        }
      ]
    },
    {
      "cell_type": "markdown",
      "source": [
        "### **Limpiar**"
      ],
      "metadata": {
        "id": "IwvbemAs0X-E"
      }
    },
    {
      "cell_type": "code",
      "source": [
        "data = data.dropna()"
      ],
      "metadata": {
        "id": "eggOsAMa4Nd7"
      },
      "execution_count": null,
      "outputs": []
    },
    {
      "cell_type": "code",
      "source": [
        "data.isnull().sum()"
      ],
      "metadata": {
        "colab": {
          "base_uri": "https://localhost:8080/"
        },
        "id": "41Eqh2OXUW3d",
        "outputId": "f904639c-a382-46ea-d12d-2a9243d299c9"
      },
      "execution_count": null,
      "outputs": [
        {
          "output_type": "execute_result",
          "data": {
            "text/plain": [
              "ph                 0\n",
              "Hardness           0\n",
              "Solids             0\n",
              "Chloramines        0\n",
              "Sulfate            0\n",
              "Conductivity       0\n",
              "Organic_carbon     0\n",
              "Trihalomethanes    0\n",
              "Turbidity          0\n",
              "Potability         0\n",
              "dtype: int64"
            ]
          },
          "metadata": {},
          "execution_count": 10
        }
      ]
    },
    {
      "cell_type": "markdown",
      "source": [
        "### **Dividir X, Y**"
      ],
      "metadata": {
        "id": "65q-_sYg0fuF"
      }
    },
    {
      "cell_type": "code",
      "source": [
        "X = data.drop('Potability',axis=1).values\n",
        "y = data['Potability'].values\n",
        "\n",
        "\n",
        "X_train, X_test, y_train, y_test = train_test_split(X, y, test_size=0.3, random_state=109)"
      ],
      "metadata": {
        "id": "nfS9Ogsw4apH"
      },
      "execution_count": null,
      "outputs": []
    },
    {
      "cell_type": "code",
      "source": [
        "print('Train: X=%s, y=%s' % (X_train.shape, y_train.shape))\n",
        "print('Test: X=%s, y=%s' % (X_test.shape, y_test.shape))"
      ],
      "metadata": {
        "colab": {
          "base_uri": "https://localhost:8080/"
        },
        "id": "LxHuqzbm5KRV",
        "outputId": "0340bf0c-f85b-4405-de8c-c36efef30d6e"
      },
      "execution_count": null,
      "outputs": [
        {
          "output_type": "stream",
          "name": "stdout",
          "text": [
            "Train: X=(1407, 9), y=(1407,)\n",
            "Test: X=(604, 9), y=(604,)\n"
          ]
        }
      ]
    },
    {
      "cell_type": "markdown",
      "source": [
        "### **Normalizar**"
      ],
      "metadata": {
        "id": "23GvYuY90pc0"
      }
    },
    {
      "cell_type": "code",
      "source": [
        "scaler = StandardScaler()\n",
        "scaler.fit(X_train)\n",
        "X_train = scaler.transform(X_train)\n",
        "X_test = scaler.transform(X_test)"
      ],
      "metadata": {
        "id": "Od-o1uqu0um_"
      },
      "execution_count": null,
      "outputs": []
    },
    {
      "cell_type": "markdown",
      "source": [
        "# **Experimento**"
      ],
      "metadata": {
        "id": "VHX-bY0r01Fr"
      }
    },
    {
      "cell_type": "code",
      "source": [
        "early_stopping = EarlyStopping(monitor=\"val_loss\",\n",
        "                               mode = 'auto',\n",
        "                               patience=15)\n",
        "\n",
        "model = keras.Sequential()\n",
        "model.add(Dense(100, input_shape=(9,), activation='relu'))\n",
        "model.add(Dense(1, activation='sigmoid'))\n",
        "\n",
        "model.compile(\n",
        "    optimizer=\"adam\",\n",
        "    loss='mse',\n",
        "    metrics=[\"accuracy\"]\n",
        ")\n",
        "\n"
      ],
      "metadata": {
        "id": "FA-S-ZVinSH3"
      },
      "execution_count": null,
      "outputs": []
    },
    {
      "cell_type": "markdown",
      "source": [
        "### **Train**"
      ],
      "metadata": {
        "id": "-2DiQSyR03D0"
      }
    },
    {
      "cell_type": "code",
      "source": [
        "history = model.fit(X_train, y_train, epochs = 300, batch_size = 80, validation_data = (X_test, y_test),callbacks=[early_stopping])"
      ],
      "metadata": {
        "colab": {
          "base_uri": "https://localhost:8080/"
        },
        "id": "x_CNcsqG69v1",
        "outputId": "83203091-06a2-4767-ce22-713cce02d44d"
      },
      "execution_count": null,
      "outputs": [
        {
          "output_type": "stream",
          "name": "stdout",
          "text": [
            "Epoch 1/300\n",
            "18/18 [==============================] - 2s 28ms/step - loss: 0.2439 - accuracy: 0.5558 - val_loss: 0.2361 - val_accuracy: 0.6109\n",
            "Epoch 2/300\n",
            "18/18 [==============================] - 0s 9ms/step - loss: 0.2364 - accuracy: 0.6020 - val_loss: 0.2330 - val_accuracy: 0.6093\n",
            "Epoch 3/300\n",
            "18/18 [==============================] - 0s 8ms/step - loss: 0.2325 - accuracy: 0.6098 - val_loss: 0.2302 - val_accuracy: 0.6142\n",
            "Epoch 4/300\n",
            "18/18 [==============================] - 0s 7ms/step - loss: 0.2288 - accuracy: 0.6205 - val_loss: 0.2267 - val_accuracy: 0.6358\n",
            "Epoch 5/300\n",
            "18/18 [==============================] - 0s 9ms/step - loss: 0.2255 - accuracy: 0.6347 - val_loss: 0.2238 - val_accuracy: 0.6540\n",
            "Epoch 6/300\n",
            "18/18 [==============================] - 0s 15ms/step - loss: 0.2224 - accuracy: 0.6425 - val_loss: 0.2214 - val_accuracy: 0.6573\n",
            "Epoch 7/300\n",
            "18/18 [==============================] - 0s 10ms/step - loss: 0.2191 - accuracy: 0.6489 - val_loss: 0.2184 - val_accuracy: 0.6772\n",
            "Epoch 8/300\n",
            "18/18 [==============================] - 0s 9ms/step - loss: 0.2161 - accuracy: 0.6645 - val_loss: 0.2155 - val_accuracy: 0.6887\n",
            "Epoch 9/300\n",
            "18/18 [==============================] - 0s 9ms/step - loss: 0.2134 - accuracy: 0.6731 - val_loss: 0.2132 - val_accuracy: 0.6937\n",
            "Epoch 10/300\n",
            "18/18 [==============================] - 0s 11ms/step - loss: 0.2104 - accuracy: 0.6759 - val_loss: 0.2106 - val_accuracy: 0.7020\n",
            "Epoch 11/300\n",
            "18/18 [==============================] - 0s 7ms/step - loss: 0.2080 - accuracy: 0.6844 - val_loss: 0.2086 - val_accuracy: 0.7020\n",
            "Epoch 12/300\n",
            "18/18 [==============================] - 0s 7ms/step - loss: 0.2056 - accuracy: 0.6809 - val_loss: 0.2072 - val_accuracy: 0.7136\n",
            "Epoch 13/300\n",
            "18/18 [==============================] - 0s 8ms/step - loss: 0.2037 - accuracy: 0.6859 - val_loss: 0.2052 - val_accuracy: 0.7086\n",
            "Epoch 14/300\n",
            "18/18 [==============================] - 0s 12ms/step - loss: 0.2014 - accuracy: 0.6894 - val_loss: 0.2039 - val_accuracy: 0.7086\n",
            "Epoch 15/300\n",
            "18/18 [==============================] - 0s 15ms/step - loss: 0.1997 - accuracy: 0.6894 - val_loss: 0.2029 - val_accuracy: 0.7070\n",
            "Epoch 16/300\n",
            "18/18 [==============================] - 0s 10ms/step - loss: 0.1984 - accuracy: 0.6923 - val_loss: 0.2018 - val_accuracy: 0.7103\n",
            "Epoch 17/300\n",
            "18/18 [==============================] - 0s 14ms/step - loss: 0.1968 - accuracy: 0.6972 - val_loss: 0.2013 - val_accuracy: 0.7103\n",
            "Epoch 18/300\n",
            "18/18 [==============================] - 0s 11ms/step - loss: 0.1955 - accuracy: 0.7036 - val_loss: 0.2003 - val_accuracy: 0.7103\n",
            "Epoch 19/300\n",
            "18/18 [==============================] - 0s 8ms/step - loss: 0.1945 - accuracy: 0.7015 - val_loss: 0.2004 - val_accuracy: 0.6987\n",
            "Epoch 20/300\n",
            "18/18 [==============================] - 0s 11ms/step - loss: 0.1935 - accuracy: 0.7050 - val_loss: 0.1994 - val_accuracy: 0.7070\n",
            "Epoch 21/300\n",
            "18/18 [==============================] - 0s 13ms/step - loss: 0.1924 - accuracy: 0.7022 - val_loss: 0.1989 - val_accuracy: 0.7036\n",
            "Epoch 22/300\n",
            "18/18 [==============================] - 0s 11ms/step - loss: 0.1916 - accuracy: 0.7008 - val_loss: 0.1991 - val_accuracy: 0.7020\n",
            "Epoch 23/300\n",
            "18/18 [==============================] - 0s 8ms/step - loss: 0.1907 - accuracy: 0.7022 - val_loss: 0.1985 - val_accuracy: 0.7053\n",
            "Epoch 24/300\n",
            "18/18 [==============================] - 0s 8ms/step - loss: 0.1900 - accuracy: 0.7072 - val_loss: 0.1982 - val_accuracy: 0.7020\n",
            "Epoch 25/300\n",
            "18/18 [==============================] - 0s 10ms/step - loss: 0.1895 - accuracy: 0.7072 - val_loss: 0.1983 - val_accuracy: 0.7070\n",
            "Epoch 26/300\n",
            "18/18 [==============================] - 0s 11ms/step - loss: 0.1888 - accuracy: 0.7086 - val_loss: 0.1980 - val_accuracy: 0.7053\n",
            "Epoch 27/300\n",
            "18/18 [==============================] - 0s 8ms/step - loss: 0.1883 - accuracy: 0.7058 - val_loss: 0.1981 - val_accuracy: 0.7070\n",
            "Epoch 28/300\n",
            "18/18 [==============================] - 0s 10ms/step - loss: 0.1878 - accuracy: 0.7129 - val_loss: 0.1982 - val_accuracy: 0.7036\n",
            "Epoch 29/300\n",
            "18/18 [==============================] - 0s 12ms/step - loss: 0.1874 - accuracy: 0.7114 - val_loss: 0.1984 - val_accuracy: 0.7086\n",
            "Epoch 30/300\n",
            "18/18 [==============================] - 0s 11ms/step - loss: 0.1867 - accuracy: 0.7143 - val_loss: 0.1983 - val_accuracy: 0.7036\n",
            "Epoch 31/300\n",
            "18/18 [==============================] - 0s 11ms/step - loss: 0.1864 - accuracy: 0.7164 - val_loss: 0.1983 - val_accuracy: 0.7070\n",
            "Epoch 32/300\n",
            "18/18 [==============================] - 0s 16ms/step - loss: 0.1862 - accuracy: 0.7143 - val_loss: 0.1986 - val_accuracy: 0.7053\n",
            "Epoch 33/300\n",
            "18/18 [==============================] - 0s 8ms/step - loss: 0.1855 - accuracy: 0.7143 - val_loss: 0.1979 - val_accuracy: 0.6987\n",
            "Epoch 34/300\n",
            "18/18 [==============================] - 0s 9ms/step - loss: 0.1856 - accuracy: 0.7107 - val_loss: 0.1980 - val_accuracy: 0.7086\n",
            "Epoch 35/300\n",
            "18/18 [==============================] - 0s 8ms/step - loss: 0.1850 - accuracy: 0.7178 - val_loss: 0.1983 - val_accuracy: 0.7086\n",
            "Epoch 36/300\n",
            "18/18 [==============================] - 0s 8ms/step - loss: 0.1844 - accuracy: 0.7164 - val_loss: 0.1983 - val_accuracy: 0.7070\n",
            "Epoch 37/300\n",
            "18/18 [==============================] - 0s 14ms/step - loss: 0.1838 - accuracy: 0.7171 - val_loss: 0.1982 - val_accuracy: 0.7036\n",
            "Epoch 38/300\n",
            "18/18 [==============================] - 0s 9ms/step - loss: 0.1836 - accuracy: 0.7193 - val_loss: 0.1985 - val_accuracy: 0.7020\n",
            "Epoch 39/300\n",
            "18/18 [==============================] - 0s 10ms/step - loss: 0.1833 - accuracy: 0.7200 - val_loss: 0.1983 - val_accuracy: 0.7070\n",
            "Epoch 40/300\n",
            "18/18 [==============================] - 0s 13ms/step - loss: 0.1834 - accuracy: 0.7171 - val_loss: 0.1988 - val_accuracy: 0.7053\n",
            "Epoch 41/300\n",
            "18/18 [==============================] - 0s 7ms/step - loss: 0.1826 - accuracy: 0.7235 - val_loss: 0.1984 - val_accuracy: 0.7053\n",
            "Epoch 42/300\n",
            "18/18 [==============================] - 0s 11ms/step - loss: 0.1827 - accuracy: 0.7228 - val_loss: 0.1986 - val_accuracy: 0.7053\n",
            "Epoch 43/300\n",
            "18/18 [==============================] - 0s 7ms/step - loss: 0.1823 - accuracy: 0.7264 - val_loss: 0.1988 - val_accuracy: 0.7086\n",
            "Epoch 44/300\n",
            "18/18 [==============================] - 0s 9ms/step - loss: 0.1817 - accuracy: 0.7249 - val_loss: 0.1983 - val_accuracy: 0.6970\n",
            "Epoch 45/300\n",
            "18/18 [==============================] - 0s 13ms/step - loss: 0.1814 - accuracy: 0.7285 - val_loss: 0.1990 - val_accuracy: 0.7086\n",
            "Epoch 46/300\n",
            "18/18 [==============================] - 0s 12ms/step - loss: 0.1816 - accuracy: 0.7278 - val_loss: 0.1987 - val_accuracy: 0.7036\n",
            "Epoch 47/300\n",
            "18/18 [==============================] - 0s 12ms/step - loss: 0.1811 - accuracy: 0.7292 - val_loss: 0.1987 - val_accuracy: 0.7119\n",
            "Epoch 48/300\n",
            "18/18 [==============================] - 0s 10ms/step - loss: 0.1810 - accuracy: 0.7278 - val_loss: 0.1987 - val_accuracy: 0.7053\n"
          ]
        }
      ]
    },
    {
      "cell_type": "markdown",
      "source": [
        "### **Testing**"
      ],
      "metadata": {
        "id": "xd_n1JtJ1Gam"
      }
    },
    {
      "cell_type": "code",
      "source": [
        "y_pred = model.predict(X_test)\n",
        "y_pred = y_pred > 0.5"
      ],
      "metadata": {
        "id": "LsbdKr6z1Kmo"
      },
      "execution_count": null,
      "outputs": []
    },
    {
      "cell_type": "markdown",
      "source": [
        "### **Métricas del modelo**"
      ],
      "metadata": {
        "id": "LfPSPsxJ1OD2"
      }
    },
    {
      "cell_type": "code",
      "source": [
        "accuracyTrain=model.evaluate(X_train,y_train)\n",
        "print(\"\\n%s: %.2f%%\" % (model.metrics_names[1], accuracyTrain[1]*100))\n",
        "\n",
        "accuracyTest=model.evaluate(X_test,y_test)\n",
        "print(\"\\n%s: %.2f%%\" % (model.metrics_names[1], accuracyTest[1]*100))"
      ],
      "metadata": {
        "colab": {
          "base_uri": "https://localhost:8080/"
        },
        "id": "oYa_C9OJ1Riq",
        "outputId": "45558c7a-dadf-4f95-9d91-7ff29b254b10"
      },
      "execution_count": null,
      "outputs": [
        {
          "output_type": "stream",
          "name": "stdout",
          "text": [
            "44/44 [==============================] - 0s 5ms/step - loss: 0.1799 - accuracy: 0.7306\n",
            "\n",
            "accuracy: 73.06%\n",
            "19/19 [==============================] - 0s 3ms/step - loss: 0.1987 - accuracy: 0.7053\n",
            "\n",
            "accuracy: 70.53%\n"
          ]
        }
      ]
    },
    {
      "cell_type": "code",
      "source": [
        "print(\"Accuracy:\", metrics.accuracy_score(y_test, y_pred))\n",
        "print(\"Precision:\", metrics.precision_score(y_test, y_pred, average='macro'))\n",
        "print(\"Recall:\", metrics.recall_score(y_test, y_pred, average='macro'))"
      ],
      "metadata": {
        "colab": {
          "base_uri": "https://localhost:8080/"
        },
        "id": "as4ROKKFnIlM",
        "outputId": "4a9d00f1-38bb-4249-d914-3b3825968fc2"
      },
      "execution_count": null,
      "outputs": [
        {
          "output_type": "stream",
          "name": "stdout",
          "text": [
            "Accuracy: 0.7052980132450332\n",
            "Precision: 0.6971409574468085\n",
            "Recall: 0.675523679417122\n"
          ]
        }
      ]
    },
    {
      "cell_type": "markdown",
      "source": [
        "### **Matriz de Confusion**"
      ],
      "metadata": {
        "id": "ngA7Pryo1ZJI"
      }
    },
    {
      "cell_type": "code",
      "source": [
        "cnf_matrix = metrics.confusion_matrix(y_test, y_pred)\n",
        "\n",
        "p = sns.heatmap(pd.DataFrame(cnf_matrix), annot=True, cmap=\"YlGnBu\" ,fmt='g')\n",
        "plt.title('Confusion matrix', y=1.1)\n",
        "plt.ylabel('Actual label')\n",
        "plt.xlabel('Predicted label')"
      ],
      "metadata": {
        "colab": {
          "base_uri": "https://localhost:8080/"
        },
        "id": "RYkpjErKkHAl",
        "outputId": "3fe60c8b-425e-4142-9aab-77c78ff765b5"
      },
      "execution_count": null,
      "outputs": [
        {
          "output_type": "execute_result",
          "data": {
            "text/plain": [
              "Text(0.5, 15.0, 'Predicted label')"
            ]
          },
          "metadata": {},
          "execution_count": 19
        },
        {
          "output_type": "display_data",
          "data": {
            "text/plain": [
              "<Figure size 432x288 with 2 Axes>"
            ],
            "image/png": "[encoded data removed]"
          },
          "metadata": {}
        }
      ]
    },
    {
      "cell_type": "code",
      "source": [
        "plt.figure(figsize=[20,8])\n",
        "\n",
        "plt.subplot(2,1,1)\n",
        "plt.plot(history.history['accuracy'])\n",
        "plt.plot(history.history['val_accuracy'])\n",
        "plt.title('model accuracy')\n",
        "plt.ylabel('accuracy')\n",
        "plt.xlabel('epoch')\n",
        "plt.legend(['train', 'test'], loc='lower right')\n",
        "\n",
        "plt.subplot(2,1,2)\n",
        "plt.plot(history.history['loss'])\n",
        "plt.plot(history.history['val_loss'])\n",
        "plt.title('model loss')\n",
        "plt.ylabel('loss')\n",
        "plt.xlabel('epoch')\n",
        "plt.legend(['train', 'test'], loc='upper right')\n",
        "\n",
        "plt.tight_layout()"
      ],
      "metadata": {
        "id": "vx9Kvc5T1c1_",
        "colab": {
          "base_uri": "https://localhost:8080/"
        },
        "outputId": "e5355608-554e-42e0-b718-fa9942a0f6f3"
      },
      "execution_count": null,
      "outputs": [
        {
          "output_type": "display_data",
          "data": {
            "text/plain": [
              "<Figure size 1440x576 with 2 Axes>"
            ],
            "image/png": "[encoded data removed]"
          },
          "metadata": {}
        }
      ]
    }
  ]
}