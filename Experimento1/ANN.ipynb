{
  "cells": [
    {
      "cell_type": "markdown",
      "metadata": {
        "id": "view-in-github",
        "colab_type": "text"
      },
      "source": [
        "<a href=\"https://colab.research.google.com/github/JosselynChila/ProyectoMineriaU3/blob/main/Experimento1/ANN.ipynb\" target=\"_parent\"><img src=\"https://colab.research.google.com/assets/colab-badge.svg\" alt=\"Open In Colab\"/></a>"
      ]
    },
    {
      "cell_type": "markdown",
      "source": [
        "# **Carga Librerias**"
      ],
      "metadata": {
        "id": "-iNGJ_lQmyX1"
      },
      "id": "-iNGJ_lQmyX1"
    },
    {
      "cell_type": "code",
      "execution_count": null,
      "id": "0a59046c",
      "metadata": {
        "id": "0a59046c"
      },
      "outputs": [],
      "source": [
        "import pandas as pd\n",
        "import tensorflow as tf\n",
        "import tensorflow_datasets as tfds\n",
        "import numpy as np\n",
        "\n",
        "import seaborn as sns\n",
        "import matplotlib.pyplot as plt\n",
        "\n",
        "from tensorflow.keras.callbacks import EarlyStopping\n",
        "from sklearn.model_selection import train_test_split\n",
        "from sklearn import metrics\n",
        "from sklearn.preprocessing import StandardScaler,MinMaxScaler\n",
        "from sklearn.model_selection import cross_val_score\n",
        "from sklearn.model_selection import cross_val_predict\n",
        "\n"
      ]
    },
    {
      "cell_type": "markdown",
      "source": [
        "# **Carga de Dataset**"
      ],
      "metadata": {
        "id": "_Dz-lJ3Om5nF"
      },
      "id": "_Dz-lJ3Om5nF"
    },
    {
      "cell_type": "code",
      "source": [
        "data = pd.read_csv(\"water_potability.csv\")\n",
        "data.head()"
      ],
      "metadata": {
        "colab": {
          "base_uri": "https://localhost:8080/",
          "height": 206
        },
        "id": "3FrmcNwr9dHs",
        "outputId": "2565d2f8-b633-47c4-95f3-1c662dc42c8b"
      },
      "id": "3FrmcNwr9dHs",
      "execution_count": null,
      "outputs": [
        {
          "output_type": "execute_result",
          "data": {
            "text/plain": [
              "         ph    Hardness        Solids  Chloramines     Sulfate  Conductivity  \\\n",
              "0       NaN  204.890455  20791.318981     7.300212  368.516441    564.308654   \n",
              "1  3.716080  129.422921  18630.057858     6.635246         NaN    592.885359   \n",
              "2  8.099124  224.236259  19909.541732     9.275884         NaN    418.606213   \n",
              "3  8.316766  214.373394  22018.417441     8.059332  356.886136    363.266516   \n",
              "4  9.092223  181.101509  17978.986339     6.546600  310.135738    398.410813   \n",
              "\n",
              "   Organic_carbon  Trihalomethanes  Turbidity  Potability  \n",
              "0       10.379783        86.990970   2.963135           0  \n",
              "1       15.180013        56.329076   4.500656           0  \n",
              "2       16.868637        66.420093   3.055934           0  \n",
              "3       18.436524       100.341674   4.628771           0  \n",
              "4       11.558279        31.997993   4.075075           0  "
            ],
            "text/html": [
              "\n",
              "  <div id=\"df-17581801-d5ad-4f9d-b61d-95157ec44355\">\n",
              "    <div class=\"colab-df-container\">\n",
              "      <div>\n",
              "<style scoped>\n",
              "    .dataframe tbody tr th:only-of-type {\n",
              "        vertical-align: middle;\n",
              "    }\n",
              "\n",
              "    .dataframe tbody tr th {\n",
              "        vertical-align: top;\n",
              "    }\n",
              "\n",
              "    .dataframe thead th {\n",
              "        text-align: right;\n",
              "    }\n",
              "</style>\n",
              "<table border=\"1\" class=\"dataframe\">\n",
              "  <thead>\n",
              "    <tr style=\"text-align: right;\">\n",
              "      <th></th>\n",
              "      <th>ph</th>\n",
              "      <th>Hardness</th>\n",
              "      <th>Solids</th>\n",
              "      <th>Chloramines</th>\n",
              "      <th>Sulfate</th>\n",
              "      <th>Conductivity</th>\n",
              "      <th>Organic_carbon</th>\n",
              "      <th>Trihalomethanes</th>\n",
              "      <th>Turbidity</th>\n",
              "      <th>Potability</th>\n",
              "    </tr>\n",
              "  </thead>\n",
              "  <tbody>\n",
              "    <tr>\n",
              "      <th>0</th>\n",
              "      <td>NaN</td>\n",
              "      <td>204.890455</td>\n",
              "      <td>20791.318981</td>\n",
              "      <td>7.300212</td>\n",
              "      <td>368.516441</td>\n",
              "      <td>564.308654</td>\n",
              "      <td>10.379783</td>\n",
              "      <td>86.990970</td>\n",
              "      <td>2.963135</td>\n",
              "      <td>0</td>\n",
              "    </tr>\n",
              "    <tr>\n",
              "      <th>1</th>\n",
              "      <td>3.716080</td>\n",
              "      <td>129.422921</td>\n",
              "      <td>18630.057858</td>\n",
              "      <td>6.635246</td>\n",
              "      <td>NaN</td>\n",
              "      <td>592.885359</td>\n",
              "      <td>15.180013</td>\n",
              "      <td>56.329076</td>\n",
              "      <td>4.500656</td>\n",
              "      <td>0</td>\n",
              "    </tr>\n",
              "    <tr>\n",
              "      <th>2</th>\n",
              "      <td>8.099124</td>\n",
              "      <td>224.236259</td>\n",
              "      <td>19909.541732</td>\n",
              "      <td>9.275884</td>\n",
              "      <td>NaN</td>\n",
              "      <td>418.606213</td>\n",
              "      <td>16.868637</td>\n",
              "      <td>66.420093</td>\n",
              "      <td>3.055934</td>\n",
              "      <td>0</td>\n",
              "    </tr>\n",
              "    <tr>\n",
              "      <th>3</th>\n",
              "      <td>8.316766</td>\n",
              "      <td>214.373394</td>\n",
              "      <td>22018.417441</td>\n",
              "      <td>8.059332</td>\n",
              "      <td>356.886136</td>\n",
              "      <td>363.266516</td>\n",
              "      <td>18.436524</td>\n",
              "      <td>100.341674</td>\n",
              "      <td>4.628771</td>\n",
              "      <td>0</td>\n",
              "    </tr>\n",
              "    <tr>\n",
              "      <th>4</th>\n",
              "      <td>9.092223</td>\n",
              "      <td>181.101509</td>\n",
              "      <td>17978.986339</td>\n",
              "      <td>6.546600</td>\n",
              "      <td>310.135738</td>\n",
              "      <td>398.410813</td>\n",
              "      <td>11.558279</td>\n",
              "      <td>31.997993</td>\n",
              "      <td>4.075075</td>\n",
              "      <td>0</td>\n",
              "    </tr>\n",
              "  </tbody>\n",
              "</table>\n",
              "</div>\n",
              "      <button class=\"colab-df-convert\" onclick=\"convertToInteractive('df-17581801-d5ad-4f9d-b61d-95157ec44355')\"\n",
              "              title=\"Convert this dataframe to an interactive table.\"\n",
              "              style=\"display:none;\">\n",
              "        \n",
              "  <svg xmlns=\"http://www.w3.org/2000/svg\" height=\"24px\"viewBox=\"0 0 24 24\"\n",
              "       width=\"24px\">\n",
              "    <path d=\"M0 0h24v24H0V0z\" fill=\"none\"/>\n",
              "    <path d=\"M18.56 5.44l.94 2.06.94-2.06 2.06-.94-2.06-.94-.94-2.06-.94 2.06-2.06.94zm-11 1L8.5 8.5l.94-2.06 2.06-.94-2.06-.94L8.5 2.5l-.94 2.06-2.06.94zm10 10l.94 2.06.94-2.06 2.06-.94-2.06-.94-.94-2.06-.94 2.06-2.06.94z\"/><path d=\"M17.41 7.96l-1.37-1.37c-.4-.4-.92-.59-1.43-.59-.52 0-1.04.2-1.43.59L10.3 9.45l-7.72 7.72c-.78.78-.78 2.05 0 2.83L4 21.41c.39.39.9.59 1.41.59.51 0 1.02-.2 1.41-.59l7.78-7.78 2.81-2.81c.8-.78.8-2.07 0-2.86zM5.41 20L4 18.59l7.72-7.72 1.47 1.35L5.41 20z\"/>\n",
              "  </svg>\n",
              "      </button>\n",
              "      \n",
              "  <style>\n",
              "    .colab-df-container {\n",
              "      display:flex;\n",
              "      flex-wrap:wrap;\n",
              "      gap: 12px;\n",
              "    }\n",
              "\n",
              "    .colab-df-convert {\n",
              "      background-color: #E8F0FE;\n",
              "      border: none;\n",
              "      border-radius: 50%;\n",
              "      cursor: pointer;\n",
              "      display: none;\n",
              "      fill: #1967D2;\n",
              "      height: 32px;\n",
              "      padding: 0 0 0 0;\n",
              "      width: 32px;\n",
              "    }\n",
              "\n",
              "    .colab-df-convert:hover {\n",
              "      background-color: #E2EBFA;\n",
              "      box-shadow: 0px 1px 2px rgba(60, 64, 67, 0.3), 0px 1px 3px 1px rgba(60, 64, 67, 0.15);\n",
              "      fill: #174EA6;\n",
              "    }\n",
              "\n",
              "    [theme=dark] .colab-df-convert {\n",
              "      background-color: #3B4455;\n",
              "      fill: #D2E3FC;\n",
              "    }\n",
              "\n",
              "    [theme=dark] .colab-df-convert:hover {\n",
              "      background-color: #434B5C;\n",
              "      box-shadow: 0px 1px 3px 1px rgba(0, 0, 0, 0.15);\n",
              "      filter: drop-shadow(0px 1px 2px rgba(0, 0, 0, 0.3));\n",
              "      fill: #FFFFFF;\n",
              "    }\n",
              "  </style>\n",
              "\n",
              "      <script>\n",
              "        const buttonEl =\n",
              "          document.querySelector('#df-17581801-d5ad-4f9d-b61d-95157ec44355 button.colab-df-convert');\n",
              "        buttonEl.style.display =\n",
              "          google.colab.kernel.accessAllowed ? 'block' : 'none';\n",
              "\n",
              "        async function convertToInteractive(key) {\n",
              "          const element = document.querySelector('#df-17581801-d5ad-4f9d-b61d-95157ec44355');\n",
              "          const dataTable =\n",
              "            await google.colab.kernel.invokeFunction('convertToInteractive',\n",
              "                                                     [key], {});\n",
              "          if (!dataTable) return;\n",
              "\n",
              "          const docLinkHtml = 'Like what you see? Visit the ' +\n",
              "            '<a target=\"_blank\" href=https://colab.research.google.com/notebooks/data_table.ipynb>data table notebook</a>'\n",
              "            + ' to learn more about interactive tables.';\n",
              "          element.innerHTML = '';\n",
              "          dataTable['output_type'] = 'display_data';\n",
              "          await google.colab.output.renderOutput(dataTable, element);\n",
              "          const docLink = document.createElement('div');\n",
              "          docLink.innerHTML = docLinkHtml;\n",
              "          element.appendChild(docLink);\n",
              "        }\n",
              "      </script>\n",
              "    </div>\n",
              "  </div>\n",
              "  "
            ]
          },
          "metadata": {},
          "execution_count": 2
        }
      ]
    },
    {
      "cell_type": "markdown",
      "source": [
        "# **Caracterización de dataset**\n",
        "\n",
        "ph: pH de 1. agua (0 a 14).\n",
        "\n",
        "Dureza: Capacidad del agua para precipitar jabón en mg/L.\n",
        "\n",
        "Sólidos: Sólidos disueltos totales en ppm.\n",
        "\n",
        "Cloraminas: Cantidad de Cloraminas en ppm.\n",
        "\n",
        "Sulfato: Cantidad de Sulfatos disueltos en mg/L.\n",
        "\n",
        "Conductividad: Conductividad eléctrica del agua en μS/cm.\n",
        "\n",
        "Organic_carbon: Cantidad de carbono orgánico en ppm.\n",
        "\n",
        "Trihalometanos: Cantidad de Trihalometanos en μg/L.\n",
        "\n",
        "Turbidez: Medida de la propiedad de emisión de luz del agua en NTU.\n",
        "\n",
        "Potabilidad: Indica si el agua es segura para el consumo humano. Potable - 1 y No potable - 0"
      ],
      "metadata": {
        "id": "NyhwBX2JnCev"
      },
      "id": "NyhwBX2JnCev"
    },
    {
      "cell_type": "markdown",
      "source": [
        "# **Identificación X y Y**\n",
        "En el dataset todas nuestras columnas son importantes ya que como se esta buscando la clasificación de la potabilidad del agua con la no potabilidad de la misma es indispensable seleccionar todas estas columnas (ph, dureza, solidos, cloraminas, sulfato, conductividad, Organic_carbon, Trihalometanos, Turbidez) las cuales serán las variables de entrada o X y para la variable objetivo se toma la columna de potabilidad puesto que esta columna contiene el dato de si el agua es segura o no para el consumo humano.\n"
      ],
      "metadata": {
        "id": "rBFIGL9fnMsY"
      },
      "id": "rBFIGL9fnMsY"
    },
    {
      "cell_type": "markdown",
      "source": [
        "# **Preprocesamiento de datos**"
      ],
      "metadata": {
        "id": "PiB-96BdnXfu"
      },
      "id": "PiB-96BdnXfu"
    },
    {
      "cell_type": "code",
      "source": [
        "data.isnull().sum()"
      ],
      "metadata": {
        "colab": {
          "base_uri": "https://localhost:8080/"
        },
        "id": "QXd890sunbsQ",
        "outputId": "d8a79f7a-7eb7-480c-e739-d747c1f704dd"
      },
      "id": "QXd890sunbsQ",
      "execution_count": null,
      "outputs": [
        {
          "output_type": "execute_result",
          "data": {
            "text/plain": [
              "ph                 491\n",
              "Hardness             0\n",
              "Solids               0\n",
              "Chloramines          0\n",
              "Sulfate            781\n",
              "Conductivity         0\n",
              "Organic_carbon       0\n",
              "Trihalomethanes    162\n",
              "Turbidity            0\n",
              "Potability           0\n",
              "dtype: int64"
            ]
          },
          "metadata": {},
          "execution_count": 3
        }
      ]
    },
    {
      "cell_type": "markdown",
      "source": [
        "### **Limpiar**"
      ],
      "metadata": {
        "id": "FeXA2IpZnhp1"
      },
      "id": "FeXA2IpZnhp1"
    },
    {
      "cell_type": "code",
      "source": [
        "data = data.dropna()"
      ],
      "metadata": {
        "id": "sX628v8C9uOn"
      },
      "id": "sX628v8C9uOn",
      "execution_count": null,
      "outputs": []
    },
    {
      "cell_type": "markdown",
      "source": [
        "### **Dividir X, Y**"
      ],
      "metadata": {
        "id": "Vbr383Fkn1AD"
      },
      "id": "Vbr383Fkn1AD"
    },
    {
      "cell_type": "code",
      "source": [
        "X = data.drop('Potability',axis=1).values\n",
        "y = data['Potability'].values\n",
        "\n",
        "\n",
        "X_train, X_test, y_train, y_test = train_test_split(X, y, test_size=0.3, random_state=109)"
      ],
      "metadata": {
        "id": "HWMrmQyO92SB"
      },
      "id": "HWMrmQyO92SB",
      "execution_count": null,
      "outputs": []
    },
    {
      "cell_type": "code",
      "source": [
        "print('Train: X=%s, y=%s' % (X_train.shape, y_train.shape))\n",
        "print('Test: X=%s, y=%s' % (X_test.shape, y_test.shape))"
      ],
      "metadata": {
        "colab": {
          "base_uri": "https://localhost:8080/"
        },
        "id": "YaR3Wckn0kos",
        "outputId": "43bc8d51-c084-4f3a-dd6c-3d8e2cde52a4"
      },
      "id": "YaR3Wckn0kos",
      "execution_count": null,
      "outputs": [
        {
          "output_type": "stream",
          "name": "stdout",
          "text": [
            "Train: X=(1407, 9), y=(1407,)\n",
            "Test: X=(604, 9), y=(604,)\n"
          ]
        }
      ]
    },
    {
      "cell_type": "markdown",
      "source": [
        "### **Normalizar**"
      ],
      "metadata": {
        "id": "i0LsPdn5oOmC"
      },
      "id": "i0LsPdn5oOmC"
    },
    {
      "cell_type": "code",
      "source": [
        "scaler = StandardScaler()\n",
        "scaler.fit(X_train)\n",
        "X_train = scaler.transform(X_train)\n",
        "X_test = scaler.transform(X_test)"
      ],
      "metadata": {
        "id": "6Y3Q7C0m95x2"
      },
      "id": "6Y3Q7C0m95x2",
      "execution_count": null,
      "outputs": []
    },
    {
      "cell_type": "markdown",
      "source": [
        "# **Experimento**"
      ],
      "metadata": {
        "id": "RFsxsOVIoVso"
      },
      "id": "RFsxsOVIoVso"
    },
    {
      "cell_type": "code",
      "source": [
        "early_stopping = EarlyStopping(monitor=\"val_loss\",\n",
        "                               mode = 'auto',\n",
        "                               patience=15)\n",
        "\n",
        "\n",
        "oculta1=tf.keras.layers.Dense(units=64, input_dim=9, activation=\"relu\")\n",
        "oculta3=tf.keras.layers.Dropout(0.5)\n",
        "oculta2=tf.keras.layers.Dense(units=64,activation=\"relu\")\n",
        "oculta4=tf.keras.layers.Dropout(0.7)\n",
        "oculta5=tf.keras.layers.Dense(units=64,activation=\"relu\")\n",
        "oculta6=tf.keras.layers.Dropout(0.3)\n",
        "oculta7=tf.keras.layers.Dense(units=64,activation=\"relu\")\n",
        "\n",
        "salida=tf.keras.layers.Dense(units=1,activation=\"sigmoid\")\n",
        "modelo=tf.keras.Sequential([oculta1,oculta3,oculta2,oculta4,oculta5,oculta6,oculta7,salida])\n",
        "\n",
        "\n",
        "modelo.compile(\n",
        "    optimizer=\"adam\",\n",
        "    loss='mse',\n",
        "    metrics=[\"accuracy\"]\n",
        ")"
      ],
      "metadata": {
        "id": "1RU4a7f2-FxA"
      },
      "id": "1RU4a7f2-FxA",
      "execution_count": null,
      "outputs": []
    },
    {
      "cell_type": "markdown",
      "source": [
        "### **Train**"
      ],
      "metadata": {
        "id": "JUr4BMuLoaoH"
      },
      "id": "JUr4BMuLoaoH"
    },
    {
      "cell_type": "code",
      "source": [
        "history = modelo.fit(X_train, y_train, batch_size=10, epochs=100, validation_data=(X_test, y_test),callbacks=[early_stopping])"
      ],
      "metadata": {
        "colab": {
          "base_uri": "https://localhost:8080/"
        },
        "id": "Czfoyetf-Wmq",
        "outputId": "62f47af1-d324-429c-baf4-0c6d4f4b4f18"
      },
      "id": "Czfoyetf-Wmq",
      "execution_count": null,
      "outputs": [
        {
          "output_type": "stream",
          "name": "stdout",
          "text": [
            "Epoch 1/100\n",
            "141/141 [==============================] - 3s 10ms/step - loss: 0.2465 - accuracy: 0.5771 - val_loss: 0.2420 - val_accuracy: 0.5960\n",
            "Epoch 2/100\n",
            "141/141 [==============================] - 1s 5ms/step - loss: 0.2470 - accuracy: 0.5807 - val_loss: 0.2413 - val_accuracy: 0.5960\n",
            "Epoch 3/100\n",
            "141/141 [==============================] - 1s 5ms/step - loss: 0.2421 - accuracy: 0.5949 - val_loss: 0.2400 - val_accuracy: 0.5960\n",
            "Epoch 4/100\n",
            "141/141 [==============================] - 1s 5ms/step - loss: 0.2434 - accuracy: 0.5970 - val_loss: 0.2388 - val_accuracy: 0.5960\n",
            "Epoch 5/100\n",
            "141/141 [==============================] - 1s 5ms/step - loss: 0.2415 - accuracy: 0.5984 - val_loss: 0.2384 - val_accuracy: 0.5960\n",
            "Epoch 6/100\n",
            "141/141 [==============================] - 1s 6ms/step - loss: 0.2399 - accuracy: 0.6077 - val_loss: 0.2363 - val_accuracy: 0.5977\n",
            "Epoch 7/100\n",
            "141/141 [==============================] - 1s 5ms/step - loss: 0.2396 - accuracy: 0.5942 - val_loss: 0.2362 - val_accuracy: 0.5960\n",
            "Epoch 8/100\n",
            "141/141 [==============================] - 1s 5ms/step - loss: 0.2382 - accuracy: 0.5984 - val_loss: 0.2338 - val_accuracy: 0.5977\n",
            "Epoch 9/100\n",
            "141/141 [==============================] - 1s 6ms/step - loss: 0.2391 - accuracy: 0.6006 - val_loss: 0.2347 - val_accuracy: 0.6126\n",
            "Epoch 10/100\n",
            "141/141 [==============================] - 1s 6ms/step - loss: 0.2342 - accuracy: 0.6148 - val_loss: 0.2317 - val_accuracy: 0.6142\n",
            "Epoch 11/100\n",
            "141/141 [==============================] - 1s 5ms/step - loss: 0.2367 - accuracy: 0.5984 - val_loss: 0.2316 - val_accuracy: 0.6225\n",
            "Epoch 12/100\n",
            "141/141 [==============================] - 1s 5ms/step - loss: 0.2342 - accuracy: 0.6098 - val_loss: 0.2274 - val_accuracy: 0.6275\n",
            "Epoch 13/100\n",
            "141/141 [==============================] - 1s 5ms/step - loss: 0.2357 - accuracy: 0.6063 - val_loss: 0.2278 - val_accuracy: 0.6242\n",
            "Epoch 14/100\n",
            "141/141 [==============================] - 1s 7ms/step - loss: 0.2323 - accuracy: 0.6084 - val_loss: 0.2240 - val_accuracy: 0.6225\n",
            "Epoch 15/100\n",
            "141/141 [==============================] - 1s 5ms/step - loss: 0.2283 - accuracy: 0.6169 - val_loss: 0.2223 - val_accuracy: 0.6490\n",
            "Epoch 16/100\n",
            "141/141 [==============================] - 1s 5ms/step - loss: 0.2324 - accuracy: 0.6240 - val_loss: 0.2240 - val_accuracy: 0.6573\n",
            "Epoch 17/100\n",
            "141/141 [==============================] - 1s 6ms/step - loss: 0.2307 - accuracy: 0.6368 - val_loss: 0.2186 - val_accuracy: 0.6772\n",
            "Epoch 18/100\n",
            "141/141 [==============================] - 1s 7ms/step - loss: 0.2227 - accuracy: 0.6482 - val_loss: 0.2152 - val_accuracy: 0.6639\n",
            "Epoch 19/100\n",
            "141/141 [==============================] - 1s 7ms/step - loss: 0.2253 - accuracy: 0.6326 - val_loss: 0.2162 - val_accuracy: 0.6589\n",
            "Epoch 20/100\n",
            "141/141 [==============================] - 1s 8ms/step - loss: 0.2157 - accuracy: 0.6475 - val_loss: 0.2095 - val_accuracy: 0.6987\n",
            "Epoch 21/100\n",
            "141/141 [==============================] - 1s 8ms/step - loss: 0.2193 - accuracy: 0.6588 - val_loss: 0.2080 - val_accuracy: 0.6937\n",
            "Epoch 22/100\n",
            "141/141 [==============================] - 1s 5ms/step - loss: 0.2197 - accuracy: 0.6517 - val_loss: 0.2093 - val_accuracy: 0.7053\n",
            "Epoch 23/100\n",
            "141/141 [==============================] - 1s 5ms/step - loss: 0.2226 - accuracy: 0.6425 - val_loss: 0.2114 - val_accuracy: 0.6871\n",
            "Epoch 24/100\n",
            "141/141 [==============================] - 1s 7ms/step - loss: 0.2154 - accuracy: 0.6652 - val_loss: 0.2089 - val_accuracy: 0.7003\n",
            "Epoch 25/100\n",
            "141/141 [==============================] - 0s 3ms/step - loss: 0.2131 - accuracy: 0.6489 - val_loss: 0.2062 - val_accuracy: 0.6904\n",
            "Epoch 26/100\n",
            "141/141 [==============================] - 0s 3ms/step - loss: 0.2183 - accuracy: 0.6581 - val_loss: 0.2068 - val_accuracy: 0.6937\n",
            "Epoch 27/100\n",
            "141/141 [==============================] - 0s 3ms/step - loss: 0.2107 - accuracy: 0.6787 - val_loss: 0.2033 - val_accuracy: 0.7070\n",
            "Epoch 28/100\n",
            "141/141 [==============================] - 0s 3ms/step - loss: 0.2127 - accuracy: 0.6688 - val_loss: 0.2063 - val_accuracy: 0.6904\n",
            "Epoch 29/100\n",
            "141/141 [==============================] - 0s 3ms/step - loss: 0.2098 - accuracy: 0.6837 - val_loss: 0.2043 - val_accuracy: 0.7003\n",
            "Epoch 30/100\n",
            "141/141 [==============================] - 0s 3ms/step - loss: 0.2147 - accuracy: 0.6709 - val_loss: 0.2073 - val_accuracy: 0.6970\n",
            "Epoch 31/100\n",
            "141/141 [==============================] - 0s 3ms/step - loss: 0.2093 - accuracy: 0.6773 - val_loss: 0.2040 - val_accuracy: 0.6987\n",
            "Epoch 32/100\n",
            "141/141 [==============================] - 0s 3ms/step - loss: 0.2117 - accuracy: 0.6688 - val_loss: 0.2039 - val_accuracy: 0.7020\n",
            "Epoch 33/100\n",
            "141/141 [==============================] - 0s 3ms/step - loss: 0.2088 - accuracy: 0.6674 - val_loss: 0.2060 - val_accuracy: 0.7053\n",
            "Epoch 34/100\n",
            "141/141 [==============================] - 0s 3ms/step - loss: 0.2081 - accuracy: 0.6738 - val_loss: 0.2041 - val_accuracy: 0.7036\n",
            "Epoch 35/100\n",
            "141/141 [==============================] - 0s 3ms/step - loss: 0.2054 - accuracy: 0.6766 - val_loss: 0.2010 - val_accuracy: 0.7053\n",
            "Epoch 36/100\n",
            "141/141 [==============================] - 0s 3ms/step - loss: 0.2114 - accuracy: 0.6795 - val_loss: 0.2041 - val_accuracy: 0.7003\n",
            "Epoch 37/100\n",
            "141/141 [==============================] - 0s 3ms/step - loss: 0.2104 - accuracy: 0.6702 - val_loss: 0.2055 - val_accuracy: 0.6921\n",
            "Epoch 38/100\n",
            "141/141 [==============================] - 0s 3ms/step - loss: 0.2066 - accuracy: 0.6787 - val_loss: 0.2031 - val_accuracy: 0.7036\n",
            "Epoch 39/100\n",
            "141/141 [==============================] - 0s 3ms/step - loss: 0.2076 - accuracy: 0.6766 - val_loss: 0.2032 - val_accuracy: 0.7036\n",
            "Epoch 40/100\n",
            "141/141 [==============================] - 0s 2ms/step - loss: 0.2042 - accuracy: 0.6873 - val_loss: 0.2030 - val_accuracy: 0.7053\n",
            "Epoch 41/100\n",
            "141/141 [==============================] - 0s 3ms/step - loss: 0.2031 - accuracy: 0.6923 - val_loss: 0.2034 - val_accuracy: 0.6970\n",
            "Epoch 42/100\n",
            "141/141 [==============================] - 0s 3ms/step - loss: 0.2083 - accuracy: 0.6738 - val_loss: 0.2032 - val_accuracy: 0.7003\n",
            "Epoch 43/100\n",
            "141/141 [==============================] - 0s 3ms/step - loss: 0.1999 - accuracy: 0.6795 - val_loss: 0.2015 - val_accuracy: 0.7086\n",
            "Epoch 44/100\n",
            "141/141 [==============================] - 0s 3ms/step - loss: 0.2056 - accuracy: 0.6866 - val_loss: 0.2022 - val_accuracy: 0.6954\n",
            "Epoch 45/100\n",
            "141/141 [==============================] - 0s 3ms/step - loss: 0.2057 - accuracy: 0.6851 - val_loss: 0.2023 - val_accuracy: 0.7003\n",
            "Epoch 46/100\n",
            "141/141 [==============================] - 0s 3ms/step - loss: 0.2061 - accuracy: 0.6809 - val_loss: 0.2046 - val_accuracy: 0.7036\n",
            "Epoch 47/100\n",
            "141/141 [==============================] - 0s 3ms/step - loss: 0.2068 - accuracy: 0.6816 - val_loss: 0.2042 - val_accuracy: 0.7070\n",
            "Epoch 48/100\n",
            "141/141 [==============================] - 0s 3ms/step - loss: 0.1986 - accuracy: 0.6873 - val_loss: 0.2014 - val_accuracy: 0.7036\n",
            "Epoch 49/100\n",
            "141/141 [==============================] - 0s 3ms/step - loss: 0.2020 - accuracy: 0.6809 - val_loss: 0.2019 - val_accuracy: 0.7070\n",
            "Epoch 50/100\n",
            "141/141 [==============================] - 0s 3ms/step - loss: 0.1980 - accuracy: 0.6994 - val_loss: 0.2033 - val_accuracy: 0.7103\n"
          ]
        }
      ]
    },
    {
      "cell_type": "markdown",
      "source": [
        "### **Testing**"
      ],
      "metadata": {
        "id": "UbkSH4ddolJQ"
      },
      "id": "UbkSH4ddolJQ"
    },
    {
      "cell_type": "code",
      "source": [
        "y_pred = modelo.predict(X_test)\n",
        "y_pred = y_pred > 0.5"
      ],
      "metadata": {
        "id": "MizzQveYor6m"
      },
      "id": "MizzQveYor6m",
      "execution_count": null,
      "outputs": []
    },
    {
      "cell_type": "markdown",
      "source": [
        "### **Métricas del modelo**"
      ],
      "metadata": {
        "id": "xD2tLVzMoxN_"
      },
      "id": "xD2tLVzMoxN_"
    },
    {
      "cell_type": "code",
      "source": [
        "accuracyTrain=modelo.evaluate(X_train,y_train)\n",
        "print(\"\\n%s: %.2f%%\" % (modelo.metrics_names[1], accuracyTrain[1]*100))\n",
        "\n",
        "accuracyTest=modelo.evaluate(X_test,y_test)\n",
        "print(\"\\n%s: %.2f%%\" % (modelo.metrics_names[1], accuracyTest[1]*100))"
      ],
      "metadata": {
        "colab": {
          "base_uri": "https://localhost:8080/"
        },
        "id": "x-Sp1qW8o5zV",
        "outputId": "36103af4-bef5-4dea-e344-778613ad9e7d"
      },
      "id": "x-Sp1qW8o5zV",
      "execution_count": null,
      "outputs": [
        {
          "output_type": "stream",
          "name": "stdout",
          "text": [
            "44/44 [==============================] - 0s 2ms/step - loss: 0.1921 - accuracy: 0.7228\n",
            "\n",
            "accuracy: 72.28%\n",
            "19/19 [==============================] - 0s 2ms/step - loss: 0.2033 - accuracy: 0.7103\n",
            "\n",
            "accuracy: 71.03%\n"
          ]
        }
      ]
    },
    {
      "cell_type": "code",
      "source": [
        "print(\"Accuracy:\", metrics.accuracy_score(y_test, y_pred))\n",
        "print(\"Precision:\", metrics.precision_score(y_test, y_pred, average='macro'))\n",
        "print(\"Recall:\", metrics.recall_score(y_test, y_pred, average='macro'))"
      ],
      "metadata": {
        "colab": {
          "base_uri": "https://localhost:8080/"
        },
        "id": "9NW95J1rzO_O",
        "outputId": "ce86db1f-7819-46e6-df26-82c0b4716d16"
      },
      "id": "9NW95J1rzO_O",
      "execution_count": null,
      "outputs": [
        {
          "output_type": "stream",
          "name": "stdout",
          "text": [
            "Accuracy: 0.7102649006622517\n",
            "Precision: 0.7057714444488549\n",
            "Recall: 0.6770491803278689\n"
          ]
        }
      ]
    },
    {
      "cell_type": "markdown",
      "source": [
        "### **Matriz de Confusion**"
      ],
      "metadata": {
        "id": "Y0ZVwTq0pBHd"
      },
      "id": "Y0ZVwTq0pBHd"
    },
    {
      "cell_type": "code",
      "source": [
        "cnf_matrix = metrics.confusion_matrix(y_test, y_pred)\n",
        "p = sns.heatmap(pd.DataFrame(cnf_matrix), annot=True, cmap=\"YlGnBu\" ,fmt='g')\n",
        "plt.title('Confusion matrix', y=1.1)\n",
        "plt.ylabel('Actual label')\n",
        "plt.xlabel('Predicted label')"
      ],
      "metadata": {
        "colab": {
          "base_uri": "https://localhost:8080/",
          "height": 312
        },
        "id": "DeZCFwWUxJqh",
        "outputId": "c44abe13-f01a-4482-c629-dba7d76153c2"
      },
      "id": "DeZCFwWUxJqh",
      "execution_count": null,
      "outputs": [
        {
          "output_type": "execute_result",
          "data": {
            "text/plain": [
              "Text(0.5, 15.0, 'Predicted label')"
            ]
          },
          "metadata": {},
          "execution_count": 13
        },
        {
          "output_type": "display_data",
          "data": {
            "text/plain": [
              "<Figure size 432x288 with 2 Axes>"
            ],
            "image/png": "[encoded data removed]"
          },
          "metadata": {
            "needs_background": "light"
          }
        }
      ]
    },
    {
      "cell_type": "code",
      "source": [
        "plt.figure(figsize=[20,8])\n",
        "\n",
        "plt.subplot(2,1,1)\n",
        "plt.plot(history.history['accuracy'])\n",
        "plt.plot(history.history['val_accuracy'])\n",
        "plt.title('model accuracy')\n",
        "plt.ylabel('accuracy')\n",
        "plt.xlabel('epoch')\n",
        "plt.legend(['train', 'test'], loc='lower right')\n",
        "\n",
        "plt.subplot(2,1,2)\n",
        "plt.plot(history.history['loss'])\n",
        "plt.plot(history.history['val_loss'])\n",
        "plt.title('model loss')\n",
        "plt.ylabel('loss')\n",
        "plt.xlabel('epoch')\n",
        "plt.legend(['train', 'test'], loc='upper right')\n",
        "\n",
        "plt.tight_layout()"
      ],
      "metadata": {
        "colab": {
          "base_uri": "https://localhost:8080/",
          "height": 479
        },
        "id": "U2mFNtz2sS0_",
        "outputId": "623a9506-2bb9-424e-ed72-93a25010fce6"
      },
      "id": "U2mFNtz2sS0_",
      "execution_count": null,
      "outputs": [
        {
          "output_type": "display_data",
          "data": {
            "text/plain": [
              "<Figure size 1440x576 with 2 Axes>"
            ],
            "image/png": "[encoded data removed]"
          },
          "metadata": {
            "needs_background": "light"
          }
        }
      ]
    }
  ],
  "metadata": {
    "kernelspec": {
      "display_name": "Python 3 (ipykernel)",
      "language": "python",
      "name": "python3"
    },
    "language_info": {
      "codemirror_mode": {
        "name": "ipython",
        "version": 3
      },
      "file_extension": ".py",
      "mimetype": "text/x-python",
      "name": "python",
      "nbconvert_exporter": "python",
      "pygments_lexer": "ipython3",
      "version": "3.9.12"
    },
    "colab": {
      "name": "ANN.ipynb",
      "provenance": [],
      "include_colab_link": true
    }
  },
  "nbformat": 4,
  "nbformat_minor": 5
}